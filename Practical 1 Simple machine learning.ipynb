{
  "nbformat": 4,
  "nbformat_minor": 0,
  "metadata": {
    "colab": {
      "provenance": [],
      "authorship_tag": "ABX9TyOTrtmMTc2ND9dx6Gd+tpIR",
      "include_colab_link": true
    },
    "kernelspec": {
      "name": "python3",
      "display_name": "Python 3"
    },
    "language_info": {
      "name": "python"
    }
  },
  "cells": [
    {
      "cell_type": "markdown",
      "metadata": {
        "id": "view-in-github",
        "colab_type": "text"
      },
      "source": [
        "<a href=\"https://colab.research.google.com/github/Veds30/Codes/blob/main/Practical%201%20Simple%20machine%20learning.ipynb\" target=\"_parent\"><img src=\"https://colab.research.google.com/assets/colab-badge.svg\" alt=\"Open In Colab\"/></a>"
      ]
    },
    {
      "cell_type": "code",
      "execution_count": 2,
      "metadata": {
        "colab": {
          "base_uri": "https://localhost:8080/"
        },
        "id": "9ZyW_jW7h5-z",
        "outputId": "e5deadc4-d7d0-4a0a-ba6f-5bef3affed5a"
      },
      "outputs": [
        {
          "output_type": "execute_result",
          "data": {
            "text/plain": [
              "[[751, 143, 45],\n",
              " [219, 250, 591],\n",
              " [138, 111, 642],\n",
              " [490, 914, 957],\n",
              " [961, 13, 464],\n",
              " [498, 904, 247],\n",
              " [91, 193, 999],\n",
              " [29, 480, 142],\n",
              " [624, 823, 220],\n",
              " [804, 434, 923]]"
            ]
          },
          "metadata": {},
          "execution_count": 2
        }
      ],
      "source": [
        "# Generating the Training Set\n",
        "\n",
        "# python library to generate random numbers\n",
        "from random import randint\n",
        "\n",
        "# the limit within which random numbers are generated\n",
        "TRAIN_SET_LIMIT = 1000\n",
        "\n",
        "# to create exactly 100 data items\n",
        "TRAIN_SET_COUNT = 100\n",
        "\n",
        "# list that contains input and corresponding output\n",
        "TRAIN_INPUT = list()\n",
        "TRAIN_OUTPUT = list()\n",
        "\n",
        "# loop to create 100 data items with three columns each\n",
        "for i in range(TRAIN_SET_COUNT):\n",
        "    a = randint(0, TRAIN_SET_LIMIT)\n",
        "    b = randint(0, TRAIN_SET_LIMIT)\n",
        "    c = randint(0, TRAIN_SET_LIMIT)\n",
        "\n",
        "# creating the output for each data item\n",
        "    op = a + (2 * b) + (3 * c)\n",
        "    TRAIN_INPUT.append([a, b, c])\n",
        "\n",
        "# adding each output to output list\n",
        "    TRAIN_OUTPUT.append(op)\n",
        "\n",
        "# printing first 10 records\n",
        "TRAIN_OUTPUT[:10]\n",
        "\n",
        "# printing first 10 records\n",
        "TRAIN_INPUT[:10]\n",
        "\n"
      ]
    }
  ]
}