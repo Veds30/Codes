{
  "nbformat": 4,
  "nbformat_minor": 0,
  "metadata": {
    "colab": {
      "provenance": [],
      "authorship_tag": "ABX9TyO2Za9t3NHZlxkLIfSMNdYx",
      "include_colab_link": true
    },
    "kernelspec": {
      "name": "python3",
      "display_name": "Python 3"
    },
    "language_info": {
      "name": "python"
    }
  },
  "cells": [
    {
      "cell_type": "markdown",
      "metadata": {
        "id": "view-in-github",
        "colab_type": "text"
      },
      "source": [
        "<a href=\"https://colab.research.google.com/github/Veds30/Codes/blob/main/Practical%209%20na%C3%AFve%20Bayesian%20Classifier%20model%20.ipynb\" target=\"_parent\"><img src=\"https://colab.research.google.com/assets/colab-badge.svg\" alt=\"Open In Colab\"/></a>"
      ]
    },
    {
      "cell_type": "code",
      "execution_count": 43,
      "metadata": {
        "colab": {
          "base_uri": "https://localhost:8080/",
          "height": 384
        },
        "id": "Z1t32dEPtkDq",
        "outputId": "3a4ceb50-4bcc-48b0-ff79-2c76189920cb"
      },
      "outputs": [
        {
          "output_type": "stream",
          "name": "stdout",
          "text": [
            "The dimensions of the dataset (18, 2)\n",
            "\n",
            " the total number of Training Data : (13,)\n",
            "\n",
            " the total number of Test Data : (5,)\n",
            "\n",
            " The words or Tokens in the text documents \n",
            "\n"
          ]
        },
        {
          "output_type": "error",
          "ename": "AttributeError",
          "evalue": "ignored",
          "traceback": [
            "\u001b[0;31m---------------------------------------------------------------------------\u001b[0m",
            "\u001b[0;31mAttributeError\u001b[0m                            Traceback (most recent call last)",
            "\u001b[0;32m<ipython-input-43-31d26a456651>\u001b[0m in \u001b[0;36m<cell line: 22>\u001b[0;34m()\u001b[0m\n\u001b[1;32m     20\u001b[0m \u001b[0mxtest_dtm\u001b[0m\u001b[0;34m=\u001b[0m\u001b[0mcv\u001b[0m\u001b[0;34m.\u001b[0m\u001b[0mtransform\u001b[0m\u001b[0;34m(\u001b[0m\u001b[0mxtest\u001b[0m\u001b[0;34m)\u001b[0m\u001b[0;34m\u001b[0m\u001b[0;34m\u001b[0m\u001b[0m\n\u001b[1;32m     21\u001b[0m \u001b[0mprint\u001b[0m\u001b[0;34m(\u001b[0m\u001b[0;34m'\\n The words or Tokens in the text documents \\n'\u001b[0m\u001b[0;34m)\u001b[0m\u001b[0;34m\u001b[0m\u001b[0;34m\u001b[0m\u001b[0m\n\u001b[0;32m---> 22\u001b[0;31m \u001b[0mprint\u001b[0m\u001b[0;34m(\u001b[0m\u001b[0mcv\u001b[0m\u001b[0;34m.\u001b[0m\u001b[0mget_feature_names\u001b[0m\u001b[0;34m(\u001b[0m\u001b[0;34m)\u001b[0m\u001b[0;34m)\u001b[0m\u001b[0;34m\u001b[0m\u001b[0;34m\u001b[0m\u001b[0m\n\u001b[0m\u001b[1;32m     23\u001b[0m \u001b[0mdf\u001b[0m\u001b[0;34m=\u001b[0m\u001b[0mpd\u001b[0m\u001b[0;34m.\u001b[0m\u001b[0mDataFrame\u001b[0m\u001b[0;34m(\u001b[0m\u001b[0mxtrain_dtm\u001b[0m\u001b[0;34m.\u001b[0m\u001b[0mtoarray\u001b[0m\u001b[0;34m(\u001b[0m\u001b[0;34m)\u001b[0m\u001b[0;34m,\u001b[0m\u001b[0mcolumns\u001b[0m\u001b[0;34m=\u001b[0m\u001b[0mcv\u001b[0m\u001b[0;34m.\u001b[0m\u001b[0mget_feature_names\u001b[0m\u001b[0;34m(\u001b[0m\u001b[0;34m)\u001b[0m\u001b[0;34m)\u001b[0m\u001b[0;34m\u001b[0m\u001b[0;34m\u001b[0m\u001b[0m\n\u001b[1;32m     24\u001b[0m \u001b[0;31m# Training Naive Bayes (NB) classifier on training data.\u001b[0m\u001b[0;34m\u001b[0m\u001b[0;34m\u001b[0m\u001b[0m\n",
            "\u001b[0;31mAttributeError\u001b[0m: 'CountVectorizer' object has no attribute 'get_feature_names'"
          ]
        }
      ],
      "source": [
        "import pandas as pd\n",
        "from sklearn.model_selection import train_test_split\n",
        "\n",
        "from sklearn.naive_bayes import MultinomialNB\n",
        "from sklearn import metrics\n",
        "msg=pd.read_csv('naivetext.csv',names=['message','label'])\n",
        "print('The dimensions of the dataset',msg.shape)\n",
        "msg['labelnum']=msg.label.map({'pos':1,'neg':0})\n",
        "X=msg.message\n",
        "y=msg.labelnum\n",
        "#splitting the dataset into train and test data\n",
        "xtrain,xtest,ytrain,ytest=train_test_split(X,y)\n",
        "print ('\\n the total number of Training Data :',ytrain.shape)\n",
        "print ('\\n the total number of Test Data :',ytest.shape)\n",
        "#output the words or Tokens in the text documents\n",
        "from sklearn.feature_extraction.text import CountVectorizer\n",
        "\n",
        "cv = CountVectorizer()\n",
        "xtrain_dtm = cv.fit_transform(xtrain)\n",
        "xtest_dtm=cv.transform(xtest)\n",
        "print('\\n The words or Tokens in the text documents \\n')\n",
        "print(cv.get_feature_names())\n",
        "df=pd.DataFrame(xtrain_dtm.toarray(),columns=cv.get_feature_names())\n",
        "# Training Naive Bayes (NB) classifier on training data.\n",
        "clf = MultinomialNB().fit(xtrain_dtm,ytrain)\n",
        "predicted = clf.predict(xtest_dtm)\n",
        "#printing accuracy, Confusion matrix, Precision and Recall\n",
        "print('\\n Accuracy of the classifier is',metrics.accuracy_score(ytest,predicted))\n",
        "print('\\n Confusion matrix')\n",
        "print(metrics.confusion_matrix(ytest,predicted))\n",
        "print('\\n The value of Precision', metrics.precision_score(ytest,predicted))\n",
        "print('\\n The value of Recall', metrics.recall_score(ytest,predicted))\n"
      ]
    },
    {
      "cell_type": "code",
      "source": [
        "from sklearn.feature_extraction.text import CountVectorizer\n"
      ],
      "metadata": {
        "id": "hgmUAg4aCr5b"
      },
      "execution_count": 39,
      "outputs": []
    },
    {
      "cell_type": "code",
      "source": [],
      "metadata": {
        "id": "wVf6bfy0BxSr"
      },
      "execution_count": null,
      "outputs": []
    }
  ]
}