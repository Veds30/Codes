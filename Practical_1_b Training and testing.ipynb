{
  "nbformat": 4,
  "nbformat_minor": 0,
  "metadata": {
    "colab": {
      "provenance": [],
      "authorship_tag": "ABX9TyNurBPLr8NYtxW61H4noK0D",
      "include_colab_link": true
    },
    "kernelspec": {
      "name": "python3",
      "display_name": "Python 3"
    },
    "language_info": {
      "name": "python"
    }
  },
  "cells": [
    {
      "cell_type": "markdown",
      "metadata": {
        "id": "view-in-github",
        "colab_type": "text"
      },
      "source": [
        "<a href=\"https://colab.research.google.com/github/Veds30/Codes/blob/main/Practical_1_b%20Training%20and%20testing.ipynb\" target=\"_parent\"><img src=\"https://colab.research.google.com/assets/colab-badge.svg\" alt=\"Open In Colab\"/></a>"
      ]
    },
    {
      "cell_type": "code",
      "execution_count": 1,
      "metadata": {
        "colab": {
          "base_uri": "https://localhost:8080/",
          "height": 245
        },
        "id": "szE_MG06jL6C",
        "outputId": "4a547c24-a4b7-4c98-e374-77e5f76cbe2a"
      },
      "outputs": [
        {
          "output_type": "error",
          "ename": "NameError",
          "evalue": "ignored",
          "traceback": [
            "\u001b[0;31m---------------------------------------------------------------------------\u001b[0m",
            "\u001b[0;31mNameError\u001b[0m                                 Traceback (most recent call last)",
            "\u001b[0;32m<ipython-input-1-a5e4a33eee34>\u001b[0m in \u001b[0;36m<cell line: 11>\u001b[0;34m()\u001b[0m\n\u001b[1;32m      9\u001b[0m \u001b[0;34m\u001b[0m\u001b[0m\n\u001b[1;32m     10\u001b[0m \u001b[0;31m# Fill the Model with the Data\u001b[0m\u001b[0;34m\u001b[0m\u001b[0;34m\u001b[0m\u001b[0m\n\u001b[0;32m---> 11\u001b[0;31m \u001b[0mpredictor\u001b[0m\u001b[0;34m.\u001b[0m\u001b[0mfit\u001b[0m\u001b[0;34m(\u001b[0m\u001b[0mX\u001b[0m \u001b[0;34m=\u001b[0m \u001b[0mTRAIN_INPUT\u001b[0m\u001b[0;34m,\u001b[0m \u001b[0my\u001b[0m \u001b[0;34m=\u001b[0m \u001b[0mTRAIN_OUTPUT\u001b[0m\u001b[0;34m)\u001b[0m\u001b[0;34m\u001b[0m\u001b[0;34m\u001b[0m\u001b[0m\n\u001b[0m\u001b[1;32m     12\u001b[0m \u001b[0;34m\u001b[0m\u001b[0m\n\u001b[1;32m     13\u001b[0m \u001b[0;34m\u001b[0m\u001b[0m\n",
            "\u001b[0;31mNameError\u001b[0m: name 'TRAIN_INPUT' is not defined"
          ]
        }
      ],
      "source": [
        "# Training the Model\n",
        "# The data that was created using the above code is used to train the model\n",
        "\n",
        "# Sk-Learn contains the linear regression model\n",
        "from sklearn.linear_model import LinearRegression\n",
        "\n",
        "# Initialize the linear regression model\n",
        "predictor = LinearRegression(n_jobs =-1)\n",
        "\n",
        "# Fill the Model with the Data\n",
        "predictor.fit(X = TRAIN_INPUT, y = TRAIN_OUTPUT)\n",
        "\n",
        "\n",
        "# Random Test data\n",
        "X_TEST = [[ 10, 20, 30 ]]\t#---> 10 + 20*2 + 30*3 = 140.\n",
        "\n",
        "# Predict the result of X_TEST which holds testing data\n",
        "outcome = predictor.predict(X = X_TEST)\n",
        "\n",
        "# Predict the coefficients\n",
        "coefficients = predictor.coef_\n",
        "\n",
        "# Print the result obtained for the test data\n",
        "print('Outcome : {}\\nCoefficients : {}'.format(outcome, coefficients))\n"
      ]
    }
  ]
}